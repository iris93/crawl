{
 "cells": [
  {
   "cell_type": "code",
   "execution_count": 1,
   "metadata": {},
   "outputs": [
    {
     "name": "stdout",
     "output_type": "stream",
     "text": [
      "   pfloor                pid              pname  pperiod  prate\n",
      "0  100000  SN070418008135D06  乾元-丝路2018-158理财产品      165   4.55\n"
     ]
    }
   ],
   "source": [
    "import pandas as pd\n",
    "import json\n",
    "test =[{\"pid\": \"SN070418008135D06\", \"prate\": 4.55, \"pname\": \"乾元-丝路2018-158理财产品\", \"pperiod\": 165, \"pfloor\": 100000.0}]\n",
    "text = json.dumps(test, ensure_ascii=False)\n",
    "df=pd.read_json(text,orient='records')\n",
    "print df\n",
    "df.to_csv('test.csv',encoding='UTF-8',index=False)"
   ]
  },
  {
   "cell_type": "code",
   "execution_count": 2,
   "metadata": {},
   "outputs": [
    {
     "name": "stdout",
     "output_type": "stream",
     "text": [
      "   pfloor                pid              pname  pperiod  prate\n",
      "0  100000  SN070418008135D06  乾元-丝路2018-158理财产品      165   4.55\n"
     ]
    }
   ],
   "source": [
    "df1 = pd.read_csv('test.csv')\n",
    "print df1"
   ]
  },
  {
   "cell_type": "code",
   "execution_count": 4,
   "metadata": {},
   "outputs": [],
   "source": [
    "df2=df1.append(df)\n",
    "df2.to_csv('test.csv',encoding='UTF-8',index=False)"
   ]
  },
  {
   "cell_type": "code",
   "execution_count": null,
   "metadata": {},
   "outputs": [],
   "source": []
  }
 ],
 "metadata": {
  "kernelspec": {
   "display_name": "Python 2",
   "language": "python",
   "name": "python2"
  },
  "language_info": {
   "codemirror_mode": {
    "name": "ipython",
    "version": 2
   },
   "file_extension": ".py",
   "mimetype": "text/x-python",
   "name": "python",
   "nbconvert_exporter": "python",
   "pygments_lexer": "ipython2",
   "version": "2.7.14"
  }
 },
 "nbformat": 4,
 "nbformat_minor": 2
}
